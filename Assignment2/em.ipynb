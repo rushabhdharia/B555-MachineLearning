{
 "cells": [
  {
   "cell_type": "code",
   "execution_count": 1,
   "metadata": {},
   "outputs": [],
   "source": [
    "import random\n",
    "import math\n",
    "import matplotlib.pyplot as plt"
   ]
  },
  {
   "cell_type": "code",
   "execution_count": 2,
   "metadata": {},
   "outputs": [],
   "source": [
    "def log_like(points, mu, sigma, pi, n, k):\n",
    "    log_t = []\n",
    "    for i in range(n):\n",
    "        parts = []\n",
    "        for j in range(k):\n",
    "            parts.append(pi[j]*gauss(points[i], mu[j], sigma[j]))\n",
    "        total = sum(parts)\n",
    "        log_t.append(math.log(total))\n",
    "    L = sum(log_t)\n",
    "#     print(L)\n",
    "    return L"
   ]
  },
  {
   "cell_type": "code",
   "execution_count": 3,
   "metadata": {},
   "outputs": [],
   "source": [
    "def gauss(x,mu,sigma):\n",
    "    sig_sq = pow(sigma,2) \n",
    "    d = (x-mu)\n",
    "    d = -(d*d)/(2*sig_sq)\n",
    "    fx = math.exp(d)\n",
    "    fx /= math.sqrt(2*math.pi*sig_sq) \n",
    "    return fx"
   ]
  },
  {
   "cell_type": "code",
   "execution_count": 4,
   "metadata": {},
   "outputs": [
    {
     "data": {
      "image/png": "[encoded data removed]",
      "text/plain": [
       "<Figure size 432x288 with 1 Axes>"
      ]
     },
     "metadata": {},
     "output_type": "display_data"
    }
   ],
   "source": [
    "def main():\n",
    "    file = open(\"data1.txt\")\n",
    "    points = []\n",
    "    for line in file:\n",
    "        a = line[:-1]\n",
    "        points.append(float(a))\n",
    "\n",
    "    k = 3 # number of Gaussians\n",
    "    n = len(points)\n",
    "    threshold = 0.001\n",
    "\n",
    "    #Initialization\n",
    "    pi = []\n",
    "    mu = []\n",
    "    sigma = []\n",
    "    for i in range(k):\n",
    "        pi.append(1/k)\n",
    "        mu.append(random.random())\n",
    "        sigma.append(random.random())\n",
    "\n",
    "    L = math.inf\n",
    "    log_list = []\n",
    "\n",
    "    count = 0\n",
    "    while(1):\n",
    "        count+=1\n",
    "        old_L = L\n",
    "        #Expectation\n",
    "        p = {}\n",
    "        for i in range(n):\n",
    "            parts = []\n",
    "            for j in range(k):\n",
    "                parts.append(pi[j]*gauss(points[i], mu[j], sigma[j]))\n",
    "            total = sum(parts)\n",
    "            for j in range(k):\n",
    "                p[(i,j)] = parts[j]/total\n",
    "        \n",
    "        ni = [sum([p[(i,j)] for i in range(n)]) for j in range(k)]\n",
    "\n",
    "        #Maximization\n",
    "        for j in range(k):\n",
    "            mu[j] = sum(p[(i,j)]*points[i] for i in range(n)) / ni[j]\n",
    "            \n",
    "            sigma[j] = sum(p[(i,j)]*points[i]*points[i] for i in range(n))/ni[j]\n",
    "            sigma[j] -= mu[j]**2\n",
    "            sigma[j] = math.sqrt(sigma[j])\n",
    "\n",
    "            pi[j] = ni[j]/n \n",
    "\n",
    "        #log likelihood\n",
    "        L = log_like(points, mu, sigma, pi, n, k)\n",
    "        log_list.append(L)\n",
    "        if abs(old_L - L) < threshold:\n",
    "            break\n",
    "\n",
    "    plt.plot(log_list)\n",
    "    plt.show()\n",
    "#     print(count)\n",
    "#     print(mu, sigma, pi)\n",
    "    pass\n",
    "\n",
    "if __name__ == '__main__':\n",
    "    main()"
   ]
  }
 ],
 "metadata": {
  "kernelspec": {
   "display_name": "Python 3",
   "language": "python",
   "name": "python3"
  },
  "language_info": {
   "codemirror_mode": {
    "name": "ipython",
    "version": 3
   },
   "file_extension": ".py",
   "mimetype": "text/x-python",
   "name": "python",
   "nbconvert_exporter": "python",
   "pygments_lexer": "ipython3",
   "version": "3.6.7"
  }
 },
 "nbformat": 4,
 "nbformat_minor": 2
}
